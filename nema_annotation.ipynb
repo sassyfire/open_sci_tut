{
 "cells": [
  {
   "cell_type": "code",
   "execution_count": 2,
   "metadata": {
    "collapsed": true
   },
   "outputs": [],
   "source": [
    "import pandas as pd\n",
    "from dammit.fileio.gff3 import GFF3Parser"
   ]
  },
  {
   "cell_type": "code",
   "execution_count": 3,
   "metadata": {},
   "outputs": [
    {
     "name": "stderr",
     "output_type": "stream",
     "text": [
      "/Users/johnsolk/anaconda3/lib/python3.6/site-packages/dammit/fileio/gff3.py:73: ParserWarning: Both a converter and dtype were specified for column attributes - only the converter will be used\n",
      "  dtype=dict(self.columns)):\n"
     ]
    },
    {
     "data": {
      "text/html": [
       "<div>\n",
       "<style scoped>\n",
       "    .dataframe tbody tr th:only-of-type {\n",
       "        vertical-align: middle;\n",
       "    }\n",
       "\n",
       "    .dataframe tbody tr th {\n",
       "        vertical-align: top;\n",
       "    }\n",
       "\n",
       "    .dataframe thead th {\n",
       "        text-align: right;\n",
       "    }\n",
       "</style>\n",
       "<table border=\"1\" class=\"dataframe\">\n",
       "  <thead>\n",
       "    <tr style=\"text-align: right;\">\n",
       "      <th></th>\n",
       "      <th>seqid</th>\n",
       "      <th>Name</th>\n",
       "    </tr>\n",
       "  </thead>\n",
       "  <tbody>\n",
       "    <tr>\n",
       "      <th>4</th>\n",
       "      <td>Transcript_0</td>\n",
       "      <td>EDO30528</td>\n",
       "    </tr>\n",
       "    <tr>\n",
       "      <th>12</th>\n",
       "      <td>Transcript_1</td>\n",
       "      <td>EDO30528</td>\n",
       "    </tr>\n",
       "    <tr>\n",
       "      <th>63</th>\n",
       "      <td>Transcript_10</td>\n",
       "      <td>Sakowv30046339m</td>\n",
       "    </tr>\n",
       "    <tr>\n",
       "      <th>73</th>\n",
       "      <td>Transcript_100</td>\n",
       "      <td>EDO40810</td>\n",
       "    </tr>\n",
       "    <tr>\n",
       "      <th>82</th>\n",
       "      <td>Transcript_101</td>\n",
       "      <td>EDO40810</td>\n",
       "    </tr>\n",
       "  </tbody>\n",
       "</table>\n",
       "</div>"
      ],
      "text/plain": [
       "             seqid             Name\n",
       "4     Transcript_0         EDO30528\n",
       "12    Transcript_1         EDO30528\n",
       "63   Transcript_10  Sakowv30046339m\n",
       "73  Transcript_100         EDO40810\n",
       "82  Transcript_101         EDO40810"
      ]
     },
     "execution_count": 3,
     "metadata": {},
     "output_type": "execute_result"
    }
   ],
   "source": [
    "gff_file = \"trinity.nema.fasta.dammit.gff3\"\n",
    "annotations = GFF3Parser(filename=gff_file).read()\n",
    "names = annotations.sort_values(by=['seqid', 'score'], ascending=True).query('score < 1e-05').drop_duplicates(subset='seqid')[['seqid', 'Name']]\n",
    "new_file = names.dropna(axis=0,how='all')\n",
    "new_file.head()"
   ]
  },
  {
   "cell_type": "code",
   "execution_count": 10,
   "metadata": {
    "collapsed": true
   },
   "outputs": [],
   "source": [
    "new_file.to_csv(\"nema_gene_name_id.csv\")"
   ]
  },
  {
   "cell_type": "code",
   "execution_count": 6,
   "metadata": {},
   "outputs": [
    {
     "data": {
      "text/plain": [
       "Index(['seqid', 'source', 'type', 'start', 'end', 'score', 'strand', 'phase',\n",
       "       'Dbxref', 'ID', 'Name', 'Note', 'Parent', 'Target', 'accuracy',\n",
       "       'database', 'env_coords'],\n",
       "      dtype='object')"
      ]
     },
     "execution_count": 6,
     "metadata": {},
     "output_type": "execute_result"
    }
   ],
   "source": [
    "annotations.columns"
   ]
  },
  {
   "cell_type": "code",
   "execution_count": 7,
   "metadata": {},
   "outputs": [
    {
     "data": {
      "text/html": [
       "<div>\n",
       "<style scoped>\n",
       "    .dataframe tbody tr th:only-of-type {\n",
       "        vertical-align: middle;\n",
       "    }\n",
       "\n",
       "    .dataframe tbody tr th {\n",
       "        vertical-align: top;\n",
       "    }\n",
       "\n",
       "    .dataframe thead th {\n",
       "        text-align: right;\n",
       "    }\n",
       "</style>\n",
       "<table border=\"1\" class=\"dataframe\">\n",
       "  <thead>\n",
       "    <tr style=\"text-align: right;\">\n",
       "      <th></th>\n",
       "      <th>seqid</th>\n",
       "      <th>source</th>\n",
       "      <th>type</th>\n",
       "      <th>start</th>\n",
       "      <th>end</th>\n",
       "      <th>score</th>\n",
       "      <th>strand</th>\n",
       "      <th>phase</th>\n",
       "      <th>Dbxref</th>\n",
       "      <th>ID</th>\n",
       "      <th>Name</th>\n",
       "      <th>Note</th>\n",
       "      <th>Parent</th>\n",
       "      <th>Target</th>\n",
       "      <th>accuracy</th>\n",
       "      <th>database</th>\n",
       "      <th>env_coords</th>\n",
       "    </tr>\n",
       "  </thead>\n",
       "  <tbody>\n",
       "    <tr>\n",
       "      <th>0</th>\n",
       "      <td>Transcript_0</td>\n",
       "      <td>HMMER</td>\n",
       "      <td>protein_hmm_match</td>\n",
       "      <td>198</td>\n",
       "      <td>696</td>\n",
       "      <td>2.900000e-12</td>\n",
       "      <td>NaN</td>\n",
       "      <td>NaN</td>\n",
       "      <td>\"Pfam:PF10477.5\"</td>\n",
       "      <td>homology:0</td>\n",
       "      <td>EIF4E-T</td>\n",
       "      <td>Nucleocytoplasmic shuttling protein for mRNA c...</td>\n",
       "      <td>NaN</td>\n",
       "      <td>EIF4E-T 1 194 +</td>\n",
       "      <td>0.67</td>\n",
       "      <td>NaN</td>\n",
       "      <td>199 705</td>\n",
       "    </tr>\n",
       "    <tr>\n",
       "      <th>1</th>\n",
       "      <td>Transcript_0</td>\n",
       "      <td>HMMER</td>\n",
       "      <td>protein_hmm_match</td>\n",
       "      <td>2631</td>\n",
       "      <td>2796</td>\n",
       "      <td>8.800000e+03</td>\n",
       "      <td>NaN</td>\n",
       "      <td>NaN</td>\n",
       "      <td>\"Pfam:PF10477.5\"</td>\n",
       "      <td>homology:3</td>\n",
       "      <td>EIF4E-T</td>\n",
       "      <td>Nucleocytoplasmic shuttling protein for mRNA c...</td>\n",
       "      <td>NaN</td>\n",
       "      <td>EIF4E-T 549 596 +</td>\n",
       "      <td>0.55</td>\n",
       "      <td>NaN</td>\n",
       "      <td>2455 2862</td>\n",
       "    </tr>\n",
       "    <tr>\n",
       "      <th>2</th>\n",
       "      <td>Transcript_0</td>\n",
       "      <td>HMMER</td>\n",
       "      <td>protein_hmm_match</td>\n",
       "      <td>612</td>\n",
       "      <td>810</td>\n",
       "      <td>3.800000e-03</td>\n",
       "      <td>NaN</td>\n",
       "      <td>NaN</td>\n",
       "      <td>\"Pfam:PF10477.5\"</td>\n",
       "      <td>homology:1</td>\n",
       "      <td>EIF4E-T</td>\n",
       "      <td>Nucleocytoplasmic shuttling protein for mRNA c...</td>\n",
       "      <td>NaN</td>\n",
       "      <td>EIF4E-T 205 272 +</td>\n",
       "      <td>0.58</td>\n",
       "      <td>NaN</td>\n",
       "      <td>550 846</td>\n",
       "    </tr>\n",
       "    <tr>\n",
       "      <th>3</th>\n",
       "      <td>Transcript_0</td>\n",
       "      <td>HMMER</td>\n",
       "      <td>protein_hmm_match</td>\n",
       "      <td>873</td>\n",
       "      <td>2058</td>\n",
       "      <td>1.400000e-04</td>\n",
       "      <td>NaN</td>\n",
       "      <td>NaN</td>\n",
       "      <td>\"Pfam:PF10477.5\"</td>\n",
       "      <td>homology:2</td>\n",
       "      <td>EIF4E-T</td>\n",
       "      <td>Nucleocytoplasmic shuttling protein for mRNA c...</td>\n",
       "      <td>NaN</td>\n",
       "      <td>EIF4E-T 331 623 +</td>\n",
       "      <td>0.71</td>\n",
       "      <td>NaN</td>\n",
       "      <td>826 2064</td>\n",
       "    </tr>\n",
       "    <tr>\n",
       "      <th>4</th>\n",
       "      <td>Transcript_0</td>\n",
       "      <td>LAST</td>\n",
       "      <td>translated_nucleotide_match</td>\n",
       "      <td>785</td>\n",
       "      <td>3665</td>\n",
       "      <td>0.000000e+00</td>\n",
       "      <td>-</td>\n",
       "      <td>NaN</td>\n",
       "      <td>NaN</td>\n",
       "      <td>homology:384</td>\n",
       "      <td>EDO30528</td>\n",
       "      <td>NaN</td>\n",
       "      <td>NaN</td>\n",
       "      <td>EDO30528 326 1286 +</td>\n",
       "      <td>NaN</td>\n",
       "      <td>OrthoDB</td>\n",
       "      <td>NaN</td>\n",
       "    </tr>\n",
       "  </tbody>\n",
       "</table>\n",
       "</div>"
      ],
      "text/plain": [
       "          seqid source                         type  start   end  \\\n",
       "0  Transcript_0  HMMER            protein_hmm_match    198   696   \n",
       "1  Transcript_0  HMMER            protein_hmm_match   2631  2796   \n",
       "2  Transcript_0  HMMER            protein_hmm_match    612   810   \n",
       "3  Transcript_0  HMMER            protein_hmm_match    873  2058   \n",
       "4  Transcript_0   LAST  translated_nucleotide_match    785  3665   \n",
       "\n",
       "          score strand  phase            Dbxref            ID      Name  \\\n",
       "0  2.900000e-12    NaN    NaN  \"Pfam:PF10477.5\"    homology:0   EIF4E-T   \n",
       "1  8.800000e+03    NaN    NaN  \"Pfam:PF10477.5\"    homology:3   EIF4E-T   \n",
       "2  3.800000e-03    NaN    NaN  \"Pfam:PF10477.5\"    homology:1   EIF4E-T   \n",
       "3  1.400000e-04    NaN    NaN  \"Pfam:PF10477.5\"    homology:2   EIF4E-T   \n",
       "4  0.000000e+00      -    NaN               NaN  homology:384  EDO30528   \n",
       "\n",
       "                                                Note Parent  \\\n",
       "0  Nucleocytoplasmic shuttling protein for mRNA c...    NaN   \n",
       "1  Nucleocytoplasmic shuttling protein for mRNA c...    NaN   \n",
       "2  Nucleocytoplasmic shuttling protein for mRNA c...    NaN   \n",
       "3  Nucleocytoplasmic shuttling protein for mRNA c...    NaN   \n",
       "4                                                NaN    NaN   \n",
       "\n",
       "                Target accuracy database env_coords  \n",
       "0      EIF4E-T 1 194 +     0.67      NaN    199 705  \n",
       "1    EIF4E-T 549 596 +     0.55      NaN  2455 2862  \n",
       "2    EIF4E-T 205 272 +     0.58      NaN    550 846  \n",
       "3    EIF4E-T 331 623 +     0.71      NaN   826 2064  \n",
       "4  EDO30528 326 1286 +      NaN  OrthoDB        NaN  "
      ]
     },
     "execution_count": 7,
     "metadata": {},
     "output_type": "execute_result"
    }
   ],
   "source": [
    "annotations.head()"
   ]
  },
  {
   "cell_type": "code",
   "execution_count": null,
   "metadata": {
    "collapsed": true
   },
   "outputs": [],
   "source": []
  }
 ],
 "metadata": {
  "kernelspec": {
   "display_name": "Python 3",
   "language": "python",
   "name": "python3"
  },
  "language_info": {
   "codemirror_mode": {
    "name": "ipython",
    "version": 3
   },
   "file_extension": ".py",
   "mimetype": "text/x-python",
   "name": "python",
   "nbconvert_exporter": "python",
   "pygments_lexer": "ipython3",
   "version": "3.6.3"
  }
 },
 "nbformat": 4,
 "nbformat_minor": 2
}
